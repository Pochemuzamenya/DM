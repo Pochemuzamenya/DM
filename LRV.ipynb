{
 "cells": [
  {
   "cell_type": "code",
   "execution_count": 1,
   "id": "e216728b",
   "metadata": {},
   "outputs": [
    {
     "name": "stdout",
     "output_type": "stream",
     "text": [
      "x =  97\n",
      "y =  97\n"
     ]
    }
   ],
   "source": [
    "x = []\n",
    "y = []\n",
    "f = open('data1.txt', 'r')\n",
    "for line in f:\n",
    "    temp = line.split(' ')\n",
    "    x.append(float(temp[0]))\n",
    "    y.append(float(temp[1]))\n",
    "print(\"x = \", len(x))\n",
    "print(\"y = \", len(y))"
   ]
  },
  {
   "cell_type": "code",
   "execution_count": 2,
   "id": "79fb8c0e",
   "metadata": {},
   "outputs": [],
   "source": [
    "c0 = 1\n",
    "c1 = 1\n",
    "a = 0.01"
   ]
  },
  {
   "cell_type": "code",
   "execution_count": 3,
   "id": "9b12c486",
   "metadata": {},
   "outputs": [
    {
     "name": "stdout",
     "output_type": "stream",
     "text": [
      "10.266520491383503\n"
     ]
    }
   ],
   "source": [
    "def h(c0, c1, x):\n",
    "    return c0 + c1 * x\n",
    "\n",
    "def J(c0, c1,x ,y):\n",
    "    summ = 0\n",
    "    for m in range(0,len(x)):\n",
    "        summ = (h(c0, c1, x[m]) - y[m])**2 + summ\n",
    "    return 1/(2*len(x)) * summ\n",
    "print(J(c0,c1, x, y))\n"
   ]
  },
  {
   "cell_type": "code",
   "execution_count": 4,
   "id": "59078e99",
   "metadata": {},
   "outputs": [
    {
     "name": "stdout",
     "output_type": "stream",
     "text": [
      "3.3206649484536084\n"
     ]
    }
   ],
   "source": [
    "def dJ0(c0, c1, x, y):\n",
    "    summ = 0\n",
    "    for m in range(len(x)):\n",
    "        summ = (h(c0, c1, x[m]) - y[m]) + summ\n",
    "    return 1/(len(x)) * summ\n",
    "print(dJ0(c0,c1,x,y))"
   ]
  },
  {
   "cell_type": "code",
   "execution_count": 5,
   "id": "fc4aec93",
   "metadata": {},
   "outputs": [
    {
     "name": "stdout",
     "output_type": "stream",
     "text": [
      "24.23489307650515\n"
     ]
    }
   ],
   "source": [
    "def dJ1(c0, c1, x, y):\n",
    "    summ = 0\n",
    "    for m in range(len(x)):\n",
    "        summ = (h(c0, c1, x[m]) - y[m]) * x[m] + summ\n",
    "    return 1/(len(x)) * summ\n",
    "print(dJ1(c0,c1,x,y))"
   ]
  },
  {
   "cell_type": "code",
   "execution_count": 1,
   "id": "48883806",
   "metadata": {},
   "outputs": [
    {
     "ename": "NameError",
     "evalue": "name 'J' is not defined",
     "output_type": "error",
     "traceback": [
      "\u001b[1;31m---------------------------------------------------------------------------\u001b[0m",
      "\u001b[1;31mNameError\u001b[0m                                 Traceback (most recent call last)",
      "\u001b[1;32m<ipython-input-1-1b637d5a7d78>\u001b[0m in \u001b[0;36m<module>\u001b[1;34m\u001b[0m\n\u001b[0;32m      3\u001b[0m \u001b[0meps\u001b[0m \u001b[1;33m=\u001b[0m \u001b[1;36m0.0001\u001b[0m\u001b[1;33m\u001b[0m\u001b[1;33m\u001b[0m\u001b[0m\n\u001b[0;32m      4\u001b[0m \u001b[1;32mwhile\u001b[0m \u001b[1;33m(\u001b[0m\u001b[1;32mTrue\u001b[0m\u001b[1;33m)\u001b[0m\u001b[1;33m:\u001b[0m\u001b[1;33m\u001b[0m\u001b[1;33m\u001b[0m\u001b[0m\n\u001b[1;32m----> 5\u001b[1;33m     \u001b[0mJ0\u001b[0m \u001b[1;33m=\u001b[0m \u001b[0mJ\u001b[0m\u001b[1;33m(\u001b[0m\u001b[0mc0\u001b[0m\u001b[1;33m,\u001b[0m\u001b[0mc1\u001b[0m\u001b[1;33m,\u001b[0m\u001b[0mx\u001b[0m\u001b[1;33m,\u001b[0m\u001b[0my\u001b[0m\u001b[1;33m)\u001b[0m\u001b[1;31m#сохранить в массив и на отдельный граф\u001b[0m\u001b[1;33m\u001b[0m\u001b[1;33m\u001b[0m\u001b[0m\n\u001b[0m\u001b[0;32m      6\u001b[0m     \u001b[0mgrap\u001b[0m\u001b[1;33m.\u001b[0m\u001b[0mappend\u001b[0m\u001b[1;33m(\u001b[0m\u001b[0mJ0\u001b[0m\u001b[1;33m)\u001b[0m\u001b[1;33m\u001b[0m\u001b[1;33m\u001b[0m\u001b[0m\n\u001b[0;32m      7\u001b[0m     \u001b[0mg0\u001b[0m \u001b[1;33m=\u001b[0m \u001b[0mdJ0\u001b[0m\u001b[1;33m(\u001b[0m\u001b[0mc0\u001b[0m\u001b[1;33m,\u001b[0m\u001b[0mc1\u001b[0m\u001b[1;33m,\u001b[0m\u001b[0mx\u001b[0m\u001b[1;33m,\u001b[0m\u001b[0my\u001b[0m\u001b[1;33m)\u001b[0m\u001b[1;33m\u001b[0m\u001b[1;33m\u001b[0m\u001b[0m\n",
      "\u001b[1;31mNameError\u001b[0m: name 'J' is not defined"
     ]
    }
   ],
   "source": [
    "grap=[]\n",
    "grap2=[]\n",
    "eps = 0.0001\n",
    "while (True):\n",
    "    J0 = J(c0,c1,x,y)#сохранить в массив и на отдельный граф\n",
    "    grap.append(J0)\n",
    "    g0 = dJ0(c0,c1,x,y)\n",
    "    g1 = dJ1(c0,c1,x,y)\n",
    "    c0=c0-a*g0\n",
    "    c1=c1-a*g1\n",
    "    J1 = J(c0,c1,x,y)#сохранить в массив и на отдельный граф\n",
    "    grap2.append(J1)\n",
    "    if abs(J0-J1) <eps:\n",
    "        break  \n",
    "print (c0,c1) "
   ]
  },
  {
   "cell_type": "code",
   "execution_count": 7,
   "id": "a3f89720",
   "metadata": {
    "scrolled": true
   },
   "outputs": [],
   "source": [
    "newY=[]\n",
    "#y = c0 +c1*x #1 grafik\n",
    "for i in range(len(x)):\n",
    "    cY = c0 + c1 * x[i]\n",
    "    newY.append(cY)"
   ]
  },
  {
   "cell_type": "code",
   "execution_count": 8,
   "id": "bb192cbe",
   "metadata": {},
   "outputs": [
    {
     "data": {
      "image/png": "[encoded data removed]",
      "text/plain": [
       "<Figure size 432x288 with 1 Axes>"
      ]
     },
     "metadata": {
      "needs_background": "light"
     },
     "output_type": "display_data"
    }
   ],
   "source": [
    "import matplotlib.pyplot as plt\n",
    "%matplotlib inline\n",
    "plt.scatter(x,y,color='r')\n",
    "plt.plot(x, newY)\n",
    "plt.show()"
   ]
  },
  {
   "cell_type": "code",
   "execution_count": 9,
   "id": "ac3ebec4",
   "metadata": {},
   "outputs": [
    {
     "data": {
      "image/png": "[encoded data removed]",
      "text/plain": [
       "<Figure size 432x288 with 1 Axes>"
      ]
     },
     "metadata": {
      "needs_background": "light"
     },
     "output_type": "display_data"
    }
   ],
   "source": [
    "plt.plot(grap2)\n",
    "plt.show()"
   ]
  },
  {
   "cell_type": "code",
   "execution_count": null,
   "id": "98057900",
   "metadata": {},
   "outputs": [],
   "source": []
  }
 ],
 "metadata": {
  "kernelspec": {
   "display_name": "Python 3",
   "language": "python",
   "name": "python3"
  },
  "language_info": {
   "codemirror_mode": {
    "name": "ipython",
    "version": 3
   },
   "file_extension": ".py",
   "mimetype": "text/x-python",
   "name": "python",
   "nbconvert_exporter": "python",
   "pygments_lexer": "ipython3",
   "version": "3.8.8"
  }
 },
 "nbformat": 4,
 "nbformat_minor": 5
}
