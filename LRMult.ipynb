{
 "cells": [
  {
   "cell_type": "code",
   "execution_count": 1,
   "metadata": {},
   "outputs": [],
   "source": [
    "x1=[]\n",
    "x2=[]\n",
    "y=[]\n",
    "f = open('data2.txt', 'r')\n",
    "for line in f:\n",
    "    temp = line.split(' ')\n",
    "    x1.append(float(temp[0])) \n",
    "    x2.append(float(temp[1]))\n",
    "    y.append(float(temp[2]))"
   ]
  },
  {
   "cell_type": "code",
   "execution_count": 2,
   "metadata": {},
   "outputs": [],
   "source": [
    "import statistics\n",
    "def med(x):\n",
    "    return statistics.median(x)\n",
    "\n",
    "x1_n = []\n",
    "x2_n = []\n",
    "y_n = []\n",
    "\n",
    "for i in range(len(x1)):\n",
    "    x1_n.append((x1[i] - med(x1))/(max(x1)-min(x1)))\n",
    "    x2_n.append((x2[i] - med(x2))/(max(x2)-min(x2)))\n",
    "    y_n.append((y[i] - med(y))/(max(y)-min(y)))"
   ]
  },
  {
   "cell_type": "code",
   "execution_count": 12,
   "metadata": {},
   "outputs": [
    {
     "name": "stdout",
     "output_type": "stream",
     "text": [
      "[0.05956977385548814, -0.07942636514065085, 0.14120242691671264, -0.13017098731384447, 0.3066740209597352, 0.026751241036955323, -0.09762824048538334, -0.12713734142305572, -0.14009928295642582, -0.10865968008825151, 0.014340871483728626, 0.03088803088803089, 0.0005515719801434088, 0.7142857142857143, -0.1709873138444567, 0.1136238279095422, -0.15664644236072808, -0.17981246552675123, 0.19884169884169883, 0.3152233866519581, -0.03337010479867623, 0.0, -0.07832322118036404, 0.02040816326530612, 0.5521235521235521, -0.21731936017650302, -0.11858797573083288, 0.17595146166574738, 0.08604522890237176, 0.20656370656370657, -0.013513513513513514, -0.24489795918367346, 0.041919470490899065, 0.34445670159955877, -0.021235521235521235, -0.12437948152233866, -0.17898510755653613, 0.06729178157749587, 0.641753998896856, 0.075565361279647, -0.06177606177606178, 0.09652509652509653, 0.18725868725868725, -0.1897407611693326, -0.2857142857142857, -0.009928295642581356, -0.18891340319911748]\n"
     ]
    }
   ],
   "source": [
    "#print(med(x1_n))\n",
    "#print(med(x2_n))\n",
    "#print(med(y_n))\n",
    "print(x1_n)"
   ]
  },
  {
   "cell_type": "code",
   "execution_count": 4,
   "metadata": {},
   "outputs": [
    {
     "name": "stdout",
     "output_type": "stream",
     "text": [
      "0.030159474902365497\n"
     ]
    }
   ],
   "source": [
    "c0 = 0\n",
    "c1 = 0\n",
    "c2 = 0\n",
    "x0 = 1\n",
    "a = 0.1\n",
    "\n",
    "def h(c0, c1, c2, x0, x1, x2):\n",
    "    return c0 *x0 + c1 * x1 + c2 * x2\n",
    "\n",
    "def J(c0, c1, c2, x0, x1, x2, y):\n",
    "    summ = 0\n",
    "    for i in range(len(x1)):\n",
    "        summ = (h(c0, c1, c2, x0, x1[i], x2[i]) - y[i])**2 + summ\n",
    "    return 1/(2*len(x1)) * summ\n",
    "print(J(c0,c1,c2,x0,x1_n,x2_n,y_n))"
   ]
  },
  {
   "cell_type": "code",
   "execution_count": 5,
   "metadata": {},
   "outputs": [],
   "source": [
    "def dJ0(c0, c1, c2, x0, x1, x2, y):\n",
    "    summ = 0\n",
    "    for i in range(len(x1)):\n",
    "        summ = (h(c0, c1, c2, x0, x1[i], x2[i]) - y[i]) * x0 + summ\n",
    "    return 1/len(x1) * summ\n",
    "\n",
    "def dJ1(c0, c1, c2, x0, x1, x2, y):\n",
    "    summ = 0\n",
    "    for i in range(len(x1)):\n",
    "        summ = (h(c0, c1, c2, x0, x1[i], x2[i]) - y[i]) * x1[i] + summ\n",
    "    return 1/len(x1) * summ\n",
    "\n",
    "def dJ2(c0, c1, c2, x0, x1, x2, y):\n",
    "    summ = 0\n",
    "    for i in range(len(x1)):\n",
    "        summ = (h(c0, c1, c2, x0, x1[i], x2[i]) - y[i]) * x2[i] + summ\n",
    "    return 1/len(x1) * summ"
   ]
  },
  {
   "cell_type": "code",
   "execution_count": 6,
   "metadata": {},
   "outputs": [],
   "source": [
    "gr1=[]\n",
    "gr2=[]\n",
    "\n",
    "eps = 0.00001\n",
    "while (True):\n",
    "    J0 = J(c0, c1, c2, x0, x1_n, x2_n, y_n)\n",
    "    gr1.append(J0)\n",
    "    g0 = dJ0(c0, c1, c2, x0, x1_n, x2_n, y_n)\n",
    "    g1 = dJ1(c0, c1, c2, x0, x1_n, x2_n, y_n)\n",
    "    g2 = dJ2(c0, c1, c2, x0, x1_n, x2_n, y_n)\n",
    "    c0 = c0 - a * g0\n",
    "    c1 = c1 - a * g1\n",
    "    c2 = c2 - a * g2\n",
    "    J1 = J(c0, c1, c2, x0, x1_n, x2_n, y_n)\n",
    "    gr2.append(J1)\n",
    "    if abs(J0 - J1) < eps:\n",
    "        break"
   ]
  },
  {
   "cell_type": "code",
   "execution_count": 7,
   "metadata": {},
   "outputs": [
    {
     "name": "stdout",
     "output_type": "stream",
     "text": [
      "0.05001835594525807 0.6268414284582251 0.16997251646972772\n"
     ]
    }
   ],
   "source": [
    "print(c0, c1 ,c2)"
   ]
  },
  {
   "cell_type": "code",
   "execution_count": 8,
   "metadata": {},
   "outputs": [
    {
     "data": {
      "image/png": "[encoded data removed]",
      "text/plain": [
       "<Figure size 432x288 with 1 Axes>"
      ]
     },
     "metadata": {
      "needs_background": "light"
     },
     "output_type": "display_data"
    }
   ],
   "source": [
    "import matplotlib.pyplot as plt\n",
    "%matplotlib inline\n",
    "plt.plot(gr2)\n",
    "plt.plot(gr1,color='g')\n",
    "plt.show()"
   ]
  },
  {
   "cell_type": "code",
   "execution_count": 9,
   "metadata": {},
   "outputs": [
    {
     "name": "stdout",
     "output_type": "stream",
     "text": [
      "-0.0170567886332834\n"
     ]
    }
   ],
   "source": [
    "x_1 = 1500\n",
    "x_2 = 3\n",
    "x_1norm = (x_1 - med(x1))/(max(x1)-min(x1))\n",
    "x_2norm = (x_2 - med(x2))/(max(x2)-min(x2))\n",
    "y_norm = h(c0, c1, c2, x0, x_1norm, x_2norm)\n",
    "print(y_norm)"
   ]
  },
  {
   "cell_type": "code",
   "execution_count": 10,
   "metadata": {},
   "outputs": [],
   "source": [
    "y1 = med(y) + y_norm * (max(y) - min(y))"
   ]
  },
  {
   "cell_type": "code",
   "execution_count": 11,
   "metadata": {},
   "outputs": [
    {
     "name": "stdout",
     "output_type": "stream",
     "text": [
      "290859.9020243598\n"
     ]
    }
   ],
   "source": [
    "print(y1)"
   ]
  },
  {
   "cell_type": "code",
   "execution_count": null,
   "metadata": {},
   "outputs": [],
   "source": []
  }
 ],
 "metadata": {
  "kernelspec": {
   "display_name": "Python 3",
   "language": "python",
   "name": "python3"
  },
  "language_info": {
   "codemirror_mode": {
    "name": "ipython",
    "version": 3
   },
   "file_extension": ".py",
   "mimetype": "text/x-python",
   "name": "python",
   "nbconvert_exporter": "python",
   "pygments_lexer": "ipython3",
   "version": "3.8.8"
  }
 },
 "nbformat": 4,
 "nbformat_minor": 4
}
