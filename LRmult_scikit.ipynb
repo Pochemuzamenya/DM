{
 "cells": [
  {
   "cell_type": "code",
   "execution_count": 1,
   "id": "74fdc6b7",
   "metadata": {},
   "outputs": [],
   "source": [
    "import pandas as pd\n",
    "from sklearn.preprocessing import StandardScaler\n",
    "from sklearn.linear_model import LinearRegression "
   ]
  },
  {
   "cell_type": "code",
   "execution_count": 2,
   "id": "10f24832",
   "metadata": {
    "scrolled": true
   },
   "outputs": [],
   "source": [
    "dataset = pd.read_csv('data2.txt', sep=' ', header=None)\n",
    "x = dataset.values[:,:-1]\n",
    "y = dataset.values[:,-1:].ravel()"
   ]
  },
  {
   "cell_type": "code",
   "execution_count": 3,
   "id": "6d2af711",
   "metadata": {},
   "outputs": [
    {
     "data": {
      "text/plain": [
       "LinearRegression()"
      ]
     },
     "execution_count": 3,
     "metadata": {},
     "output_type": "execute_result"
    }
   ],
   "source": [
    "scaler = StandardScaler()\n",
    "x_norm = scaler.fit_transform(x)\n",
    "regr = LinearRegression()\n",
    "regr.fit(x_norm, y)"
   ]
  },
  {
   "cell_type": "code",
   "execution_count": 4,
   "id": "6ee494e0",
   "metadata": {},
   "outputs": [
    {
     "name": "stdout",
     "output_type": "stream",
     "text": [
      "[272199.86323225]\n"
     ]
    }
   ],
   "source": [
    "x1 = [[1500, 3]]\n",
    "x1_norm = scaler.transform(x1)\n",
    "y1 = regr.predict(x1_norm)\n",
    "print(y1)"
   ]
  }
 ],
 "metadata": {
  "kernelspec": {
   "display_name": "Python 3",
   "language": "python",
   "name": "python3"
  },
  "language_info": {
   "codemirror_mode": {
    "name": "ipython",
    "version": 3
   },
   "file_extension": ".py",
   "mimetype": "text/x-python",
   "name": "python",
   "nbconvert_exporter": "python",
   "pygments_lexer": "ipython3",
   "version": "3.8.8"
  }
 },
 "nbformat": 4,
 "nbformat_minor": 5
}
